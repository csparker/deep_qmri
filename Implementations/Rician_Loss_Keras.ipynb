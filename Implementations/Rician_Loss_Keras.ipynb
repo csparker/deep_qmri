{
 "cells": [
  {
   "cell_type": "markdown",
   "metadata": {},
   "source": [
    "# Rician Loss Function - Keras"
   ]
  },
  {
   "cell_type": "code",
   "execution_count": null,
   "metadata": {},
   "outputs": [],
   "source": [
    "# Import packages\n",
    "import numpy as np\n",
    "import torch\n",
    "from tensorflow import keras\n",
    "from tensorflow.keras import layers"
   ]
  },
  {
   "cell_type": "code",
   "execution_count": null,
   "metadata": {},
   "outputs": [],
   "source": [
    "# IVIM model\n",
    "def ivim(b, Dp, Dt, Fp):\n",
    "    return Fp*np.exp(-b*Dp) + (1-Fp)*np.exp(-b*Dt)"
   ]
  },
  {
   "cell_type": "code",
   "execution_count": null,
   "metadata": {},
   "outputs": [],
   "source": [
    "# Training data\n",
    "b_values = np.array(list(range(0,1000,100)))\n",
    "num_samples = 50\n",
    "X_train = np.zeros((num_samples, len(b_values)))\n",
    "for i in range(len(X_train)):\n",
    "    Dp = np.random.uniform(0.01, 0.1)\n",
    "    Dt = np.random.uniform(0.0005, 0.002)\n",
    "    Fp = np.random.uniform(0.1, 0.4)\n",
    "    X_train[i, :] = ivim(b_values, Dp, Dt, Fp)\n",
    "    \n",
    "X_train_real = X_train + np.random.normal(scale=0.01, size=(num_samples, len(b_values)))\n",
    "X_train_imag = np.random.normal(scale=0.01, size=(num_samples, len(b_values)))\n",
    "X_train = np.sqrt(X_train_real**2 + X_train_imag**2)"
   ]
  },
  {
   "cell_type": "code",
   "execution_count": null,
   "metadata": {},
   "outputs": [],
   "source": [
    "# Inputs and predictions\n",
    "inputs = torch.tensor(X_train)\n",
    "predictions = X_train + 0.01"
   ]
  },
  {
   "cell_type": "code",
   "execution_count": null,
   "metadata": {},
   "outputs": [],
   "source": [
    "# Rician Loss Function\n",
    "def loss_fun(predictions, inputs, sigma=0.05):\n",
    "    term1 = torch.log(inputs / (sigma ** 2))\n",
    "    term2 = -(inputs ** 2 + predictions ** 2) / (2 * (sigma ** 2))\n",
    "    #\n",
    "    z = (inputs * predictions) / (sigma ** 2)\n",
    "    I0e = torch.special.i0e(z)\n",
    "    lI0e = torch.log(I0e)\n",
    "    term3 = lI0e + z\n",
    "    #\n",
    "    log_pdf = term1 + term2 + term3\n",
    "    #\n",
    "    n_batch = inputs.shape[0]\n",
    "    return -torch.sum(log_pdf) / n_batch"
   ]
  },
  {
   "cell_type": "code",
   "execution_count": null,
   "metadata": {},
   "outputs": [],
   "source": [
    "# Example Usage\n",
    "loss = loss_fun(predictions, inputs)\n",
    "print(loss.item())"
   ]
  },
  {
   "cell_type": "code",
   "execution_count": null,
   "metadata": {},
   "outputs": [],
   "source": [
    "# Network with Rician Loss\n",
    "model = keras.Sequential() \n",
    "model.compile(loss=loss_fun, optimizer='adam')"
   ]
  }
 ],
 "metadata": {
  "kernelspec": {
   "display_name": "Python 3",
   "language": "python",
   "name": "python3"
  },
  "language_info": {
   "codemirror_mode": {
    "name": "ipython",
    "version": 3
   },
   "file_extension": ".py",
   "mimetype": "text/x-python",
   "name": "python",
   "nbconvert_exporter": "python",
   "pygments_lexer": "ipython3",
   "version": "3.9.9"
  }
 },
 "nbformat": 4,
 "nbformat_minor": 2
}
