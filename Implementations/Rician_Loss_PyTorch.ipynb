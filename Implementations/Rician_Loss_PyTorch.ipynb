{
 "cells": [
  {
   "cell_type": "markdown",
   "metadata": {},
   "source": [
    "# Rician Loss Function - PyTorch"
   ]
  },
  {
   "cell_type": "code",
   "execution_count": null,
   "metadata": {},
   "outputs": [],
   "source": [
    "# Import packages\n",
    "import numpy as np\n",
    "import torch\n",
    "import torch.nn as nn"
   ]
  },
  {
   "cell_type": "code",
   "execution_count": null,
   "metadata": {},
   "outputs": [],
   "source": [
    "# IVIM model\n",
    "def ivim(b, Dp, Dt, Fp):\n",
    "    return Fp*np.exp(-b*Dp) + (1-Fp)*np.exp(-b*Dt)"
   ]
  },
  {
   "cell_type": "code",
   "execution_count": null,
   "metadata": {},
   "outputs": [],
   "source": [
    "# Training data\n",
    "b_values = np.array(list(range(0,1000,100)))\n",
    "num_samples = 50\n",
    "X_train = np.zeros((num_samples, len(b_values)))\n",
    "for i in range(len(X_train)):\n",
    "    Dp = np.random.uniform(0.01, 0.1)\n",
    "    Dt = np.random.uniform(0.0005, 0.002)\n",
    "    Fp = np.random.uniform(0.1, 0.4)\n",
    "    X_train[i, :] = ivim(b_values, Dp, Dt, Fp)\n",
    "    \n",
    "X_train_real = X_train + np.random.normal(scale=0.01, size=(num_samples, len(b_values)))\n",
    "X_train_imag = np.random.normal(scale=0.01, size=(num_samples, len(b_values)))\n",
    "X_train = np.sqrt(X_train_real**2 + X_train_imag**2)"
   ]
  },
  {
   "cell_type": "code",
   "execution_count": null,
   "metadata": {},
   "outputs": [],
   "source": [
    "# Inputs and predictions\n",
    "inputs = torch.tensor(X_train)\n",
    "predictions = X_train + 0.01"
   ]
  },
  {
   "cell_type": "code",
   "execution_count": null,
   "metadata": {},
   "outputs": [],
   "source": [
    "# Rician Loss Function\n",
    "class RicianLoss(nn.Module):\n",
    "    def __init__(self, sigma=0.05):\n",
    "        super(RicianLoss, self).__init__()\n",
    "        self.sigma = sigma\n",
    "    #\n",
    "    def forward(self, predictions, inputs):\n",
    "        # Rician loss\n",
    "        term1 = torch.log(inputs / (self.sigma ** 2))\n",
    "        term2 = -(inputs ** 2 + predictions ** 2) / (2 * (self.sigma ** 2))\n",
    "        #\n",
    "        z = (inputs * predictions) / (self.sigma ** 2)\n",
    "        I0e = torch.special.i0e(z)\n",
    "        lI0e = torch.log(I0e)\n",
    "        term3 = lI0e + z\n",
    "        #\n",
    "        log_pdf = term1 + term2 + term3\n",
    "        #\n",
    "        n_batch = inputs.shape[0]\n",
    "        loss = -torch.sum(log_pdf) / n_batch\n",
    "        return loss"
   ]
  },
  {
   "cell_type": "code",
   "execution_count": null,
   "metadata": {},
   "outputs": [],
   "source": [
    "# Example Usage\n",
    "loss_fun = RicianLoss()\n",
    "loss = loss_fun.forward(predictions, inputs)\n",
    "print(loss.item())"
   ]
  },
  {
   "cell_type": "code",
   "execution_count": null,
   "metadata": {},
   "outputs": [],
   "source": [
    "# Network with Rician Loss\n",
    "# see Walkthrough"
   ]
  }
 ],
 "metadata": {
  "kernelspec": {
   "display_name": "Python 3",
   "language": "python",
   "name": "python3"
  },
  "language_info": {
   "codemirror_mode": {
    "name": "ipython",
    "version": 3
   },
   "file_extension": ".py",
   "mimetype": "text/x-python",
   "name": "python",
   "nbconvert_exporter": "python",
   "pygments_lexer": "ipython3",
   "version": "3.9.9"
  }
 },
 "nbformat": 4,
 "nbformat_minor": 2
}
